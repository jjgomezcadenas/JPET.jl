{
 "cells": [
  {
   "cell_type": "code",
   "execution_count": 1,
   "id": "294d474f-38dc-4efd-af88-f717805d756b",
   "metadata": {},
   "outputs": [],
   "source": [
    "using Geant4\n",
    "using Geant4.SystemOfUnits\n",
    "using Geant4.SystemOfUnits: cm3\n",
    "#using GLMakie, Rotations, IGLWrap_jll  # to force loding G4Vis extension\n",
    "using CairoMakie\n",
    "using GeometryBasics, Rotations, IGLWrap_jll"
   ]
  },
  {
   "cell_type": "code",
   "execution_count": 2,
   "id": "a7b25aed-85a1-4060-9853-ce2d1fb068a1",
   "metadata": {},
   "outputs": [
    {
     "data": {
      "application/vnd.webio.node+json": {
       "children": [],
       "instanceArgs": {
        "namespace": "html",
        "tag": "div"
       },
       "nodeType": "DOM",
       "props": {},
       "type": "node"
      },
      "text/html": [
       "<div style=\"padding: 1em; background-color: #f8d6da; border: 1px solid #f5c6cb; font-weight: bold;\">\n",
       "<p>The WebIO Jupyter extension was not detected. See the\n",
       "<a href=\"https://juliagizmos.github.io/WebIO.jl/latest/providers/ijulia/\" target=\"_blank\">\n",
       "    WebIO Jupyter integration documentation\n",
       "</a>\n",
       "for more information.\n",
       "</div>\n"
      ],
      "text/plain": [
       "WebIO._IJuliaInit()"
      ]
     },
     "metadata": {
      "@webio": {
       "kernelId": "27cba27a-63a5-4e57-885e-d52e139f07d7"
      }
     },
     "output_type": "display_data"
    }
   ],
   "source": [
    "using Interact"
   ]
  },
  {
   "cell_type": "code",
   "execution_count": null,
   "id": "55c38721-25b1-461a-96c1-040a54021921",
   "metadata": {},
   "outputs": [],
   "source": [
    "@manipulate for var1=<object>, var2=<object>, etc...\n",
    "    # do something with a, b, etc...\n",
    "end"
   ]
  },
  {
   "cell_type": "markdown",
   "id": "be4cfde5-a650-4723-b674-68773b85de25",
   "metadata": {},
   "source": [
    "## Functions"
   ]
  },
  {
   "cell_type": "code",
   "execution_count": 3,
   "id": "187ea16d-8326-472d-ba16-e7b0a8d06ac6",
   "metadata": {},
   "outputs": [
    {
     "data": {
      "text/plain": [
       "findrdir (generic function with 1 method)"
      ]
     },
     "execution_count": 3,
     "metadata": {},
     "output_type": "execute_result"
    }
   ],
   "source": [
    "function findrdir()\n",
    "\tnbdir = split(@__DIR__,\"/\")\n",
    "\treduce(string, [string(x,\"/\") for x in nbdir[1:end-1]])\n",
    "end"
   ]
  },
  {
   "cell_type": "code",
   "execution_count": 11,
   "id": "a97e3bb3-4dd8-4205-8e7a-26087305715d",
   "metadata": {},
   "outputs": [
    {
     "data": {
      "text/plain": [
       "nexttrigger (generic function with 2 methods)"
      ]
     },
     "execution_count": 11,
     "metadata": {},
     "output_type": "execute_result"
    }
   ],
   "source": [
    "#---Draw functions---------------------------------------------------------------------------------\n",
    "function drawdetector!(s, app)\n",
    "    world = GetWorldVolume()\n",
    "    #fig = Figure(resolution=(1024,1024))\n",
    "    #s = LScene(fig[1,1])\n",
    "    Geant4.draw!(s, world, wireframe=true)\n",
    "    \n",
    "    #display(fig)\n",
    "    return s\n",
    "end\n",
    "\n",
    "function drawevent!(s, app, verbose=2, nthread=1)\n",
    "    data = app.simdata[nthread]\n",
    "    if verbose > 0\n",
    "        println(\"Run info: Particle =\", data.fParticle, \n",
    "                \" Ekin = \", data.fEkin,\n",
    "                \" Edep = \", data.fEdep)\n",
    "    end\n",
    "    for t in data.tracks\n",
    "        if t.particle == \"gamma\"\n",
    "            if verbose > 1\n",
    "                println(\" gamma: energy = \", t.energy, \" trkid =\", t.trkid, \" edep =\", t.edep, \n",
    "                        \" nof points = \", length(t.points), \" points: = \", t.points)\n",
    "                scatter!(s, t.points, markersize=7, color=:blue)\n",
    "            end\n",
    "        elseif t.particle == \"e-\"\n",
    "            if verbose > 1\n",
    "                println(\" e-: energy = \", t.energy, \" trkid =\", t.trkid, \" edep =\", t.edep,\n",
    "                    \" nof points = \", length(t.points), \" points: = \", t.points)\n",
    "            end\n",
    "            scatter!(s, t.points, markersize=7, color=:red)\n",
    "        end\n",
    "        \n",
    "    end\n",
    "end\n",
    "\n",
    "function run1(app; nrun=100, nthread=1)\n",
    "    EDEP = zeros(nrun)\n",
    "    nout = 0\n",
    "    data = app.simdata[nthread]\n",
    "    \n",
    "    for i in 1:nrun\n",
    "        beamOn(app,nthread)\n",
    "        if data.trigger \n",
    "            nout+=1\n",
    "        else\n",
    "            data = app.simdata[nthread]\n",
    "            EDEP[i] = data.fEdep\n",
    "        end\n",
    "    end\n",
    "    EDEP\n",
    "end\n",
    "\n",
    "function nexttrigger(app, nthread=1)\n",
    "    data = app.simdata[nthread]\n",
    "    beamOn(app,nthread)\n",
    "    n = 1\n",
    "    while data.trigger\n",
    "        beamOn(app,nthread)\n",
    "        n += 1\n",
    "    end\n",
    "    println(\"Got a trigger after $n generated particles\")\n",
    "end"
   ]
  },
  {
   "cell_type": "code",
   "execution_count": 4,
   "id": "dda44aa7-1c3a-49d3-a208-06dedcf39548",
   "metadata": {},
   "outputs": [
    {
     "data": {
      "text/plain": [
       "stepaction!"
      ]
     },
     "execution_count": 4,
     "metadata": {},
     "output_type": "execute_result"
    }
   ],
   "source": [
    "srcdir = string(findrdir(), \"src\")\n",
    "include(joinpath(srcdir, \"crstDet.jl\"))\n",
    "include(joinpath(srcdir, \"crstSimData.jl\"))\n",
    "include(joinpath(srcdir, \"crstUserActions.jl\"))"
   ]
  },
  {
   "cell_type": "markdown",
   "id": "cebced9f-baf7-4afe-a7e2-bba83235621c",
   "metadata": {},
   "source": [
    "## Application"
   ]
  },
  {
   "cell_type": "code",
   "execution_count": 5,
   "id": "b35841e1-8539-41a9-bae0-5109fe18d2c9",
   "metadata": {},
   "outputs": [
    {
     "data": {
      "text/plain": [
       "CrstDetector(true, 3.5, 10.0, \"LYSO\", CxxPtr{G4Material}(Ptr{G4Material} @0x000000017c7aec60))"
      ]
     },
     "execution_count": 5,
     "metadata": {},
     "output_type": "execute_result"
    }
   ],
   "source": [
    "crstd = CrstDetector(checkOverlaps=true, crstXY=3.5mm, crstZ=10.0mm, crstName=\"LYSO\")"
   ]
  },
  {
   "cell_type": "code",
   "execution_count": 6,
   "id": "1ba4e225-93d3-4620-8946-b70d5b73b1b3",
   "metadata": {},
   "outputs": [
    {
     "data": {
      "text/plain": [
       "G4JLGunGenerator(\"ParticleGun\", Geant4.G4JLParticleGunData(nothing, \"gamma\", G4ThreeVector(0.0,0.0,1.0), G4ThreeVector(0.0,0.0,-5.0), 0.511), Geant4.var\"#init#23\"(), Geant4.var\"#gen#24\"(), G4JLGeneratorAction[])"
      ]
     },
     "execution_count": 6,
     "metadata": {},
     "output_type": "execute_result"
    }
   ],
   "source": [
    "particlegun = G4JLGunGenerator(particle = \"gamma\", \n",
    "                               energy = 511keV, \n",
    "                               direction = G4ThreeVector(0,0,1), \n",
    "                               position = G4ThreeVector(0,0,-crstd.crstZ/2))"
   ]
  },
  {
   "cell_type": "code",
   "execution_count": 7,
   "id": "479dcc1b-5857-40f6-8b03-dd816c0e1285",
   "metadata": {},
   "outputs": [
    {
     "name": "stdout",
     "output_type": "stream",
     "text": [
      "\n",
      "**************************************************************\n",
      " Geant4 version Name: geant4-11-01-patch-01 [MT]   (10-February-2023)\n",
      "                       Copyright : Geant4 Collaboration\n",
      "                      References : NIM A 506 (2003), 250-303\n",
      "                                 : IEEE-TNS 53 (2006), 270-278\n",
      "                                 : NIM A 835 (2016), 186-225\n",
      "                             WWW : http://geant4.org/\n",
      "**************************************************************\n",
      "\n"
     ]
    }
   ],
   "source": [
    "app = G4JLApplication(; detector = crstd,                             # detector with parameters\n",
    "                        simdata = CrstSimData(),                     # simulation data structure\n",
    "                        generator = particlegun,                      # primary particle generator\n",
    "                        nthreads = 0,                                 # # of threads (0 = no MT)\n",
    "                        physics_type = QBBC,                          # what physics list to instantiate\n",
    "                        stepaction_method = stepaction!,               # step action method\n",
    "                        begineventaction_method = beginevent!,         # begin-event action (initialize per-event data)\n",
    "                        #endeventaction_method = endevent,             # end-event action (extract data post-event)\n",
    "                        pretrackaction_method = pretrackaction!,       # pre-tracking action\n",
    "                        posttrackaction_method = posttrackaction!,     # post-tracking action\n",
    "                        beginrunaction_method = beginrun!              # begin run action\n",
    "                      );"
   ]
  },
  {
   "cell_type": "code",
   "execution_count": 8,
   "id": "edfc95d2-262c-4c3f-a6bc-58b0718f9e1a",
   "metadata": {},
   "outputs": [],
   "source": [
    "configure(app)"
   ]
  },
  {
   "cell_type": "code",
   "execution_count": 9,
   "id": "71253081-c139-41a0-b783-bd6115ea649b",
   "metadata": {},
   "outputs": [
    {
     "name": "stdout",
     "output_type": "stream",
     "text": [
      "Checking overlaps for volume CRYSTAL:0 (G4Box) ... OK! \n"
     ]
    }
   ],
   "source": [
    "initialize(app)"
   ]
  },
  {
   "cell_type": "code",
   "execution_count": 12,
   "id": "62c1a996-c81d-45bd-9bd0-5de460e19427",
   "metadata": {},
   "outputs": [
    {
     "name": "stdout",
     "output_type": "stream",
     "text": [
      "Got a trigger after 3 generated particles\n"
     ]
    }
   ],
   "source": [
    "nexttrigger(app)"
   ]
  },
  {
   "cell_type": "code",
   "execution_count": 13,
   "id": "7e671bb9-b240-44dd-88f0-934fa5c72ea7",
   "metadata": {},
   "outputs": [
    {
     "name": "stdout",
     "output_type": "stream",
     "text": [
      "Run info: Particle =gamma Ekin = 0.511 Edep = 0.511\n",
      " gamma: energy = 0.511 trkid =1 edep =[0.0, 0.0, 0.06332] nof points = 4 points: = Point3{Float64}[[0.0, 0.0, -5.0], [0.0, 0.0, -4.114552706928433], [0.09104438672190633, 0.04433689580944583, -3.9436425669309503], [-0.37075841939208576, -0.3162253451339098, -4.4249462149289425]]\n",
      " e-: energy = 0.10307302141325912 trkid =4 edep =[0.10307302141325912] nof points = 2 points: = Point3{Float64}[[-0.37075841939208576, -0.3162253451339098, -4.4249462149289425], [-0.3697150272555448, -0.3196814308395525, -4.4235626276598445]]\n",
      " e-: energy = 0.28197920338534943 trkid =3 edep =[0.28197920338534943] nof points = 2 points: = Point3{Float64}[[0.09104438672190633, 0.04433689580944583, -3.9436425669309503], [0.10045780742467819, 0.04983448490397095, -3.9285676195185437]]\n",
      " e-: energy = 0.06262777520139146 trkid =2 edep =[0.06262777520139146] nof points = 2 points: = Point3{Float64}[[0.0, 0.0, -4.114552706928433], [-0.0013840792799380856, -0.0006740204534966942, -4.113709037518534]]\n"
     ]
    },
    {
     "data": {
      "image/png": "[encoded data removed]"
     },
     "metadata": {},
     "output_type": "display_data"
    },
    {
     "data": {
      "text/plain": [
       "CairoMakie.Screen{IMAGE}\n"
      ]
     },
     "execution_count": 13,
     "metadata": {},
     "output_type": "execute_result"
    }
   ],
   "source": [
    "fig = Figure(resolution=(500,500))\n",
    "s = LScene(fig[1,1])\n",
    "drawdetector!(s, app)\n",
    "drawevent!(s, app)\n",
    "display(fig)"
   ]
  },
  {
   "cell_type": "code",
   "execution_count": 14,
   "id": "c79a411f-a12f-47d4-a4e0-c72538036e76",
   "metadata": {},
   "outputs": [],
   "source": [
    "edep = run1(app; nrun=50000, nthread=1);"
   ]
  },
  {
   "cell_type": "code",
   "execution_count": 15,
   "id": "e862b840-3990-449d-a56e-b5bcd62ca23e",
   "metadata": {},
   "outputs": [
    {
     "data": {
      "image/png": "[encoded data removed]"
     },
     "execution_count": 15,
     "metadata": {},
     "output_type": "execute_result"
    }
   ],
   "source": [
    "f = Figure(resolution=(400,400))\n",
    "hist(f[1,1],edep, bins = 10, color = :red, strokewidth = 1, strokecolor = :black)\n",
    "hist(f[1,2],filter(x->x>0 && x < 0.510, edep), bins = 20, color = :red, strokewidth = 1, strokecolor = :black)\n",
    "f"
   ]
  },
  {
   "cell_type": "code",
   "execution_count": 16,
   "id": "41246223-5c99-4aee-ad98-9a62cd86fb9a",
   "metadata": {},
   "outputs": [
    {
     "name": "stdout",
     "output_type": "stream",
     "text": [
      "Fraction of events that interact in crystal = 0.55114\n"
     ]
    }
   ],
   "source": [
    "println(\"Fraction of events that interact in crystal = \", length(filter(x->x > 0, edep)) /length(edep))"
   ]
  },
  {
   "cell_type": "code",
   "execution_count": 17,
   "id": "ef2be750-7f69-42bf-9703-9ada4810909b",
   "metadata": {},
   "outputs": [
    {
     "name": "stdout",
     "output_type": "stream",
     "text": [
      "Fraction of events in photopeak = 0.28336\n"
     ]
    }
   ],
   "source": [
    "println(\"Fraction of events in photopeak = \", length(filter(x->x > 0.509, edep)) /length(edep))"
   ]
  },
  {
   "cell_type": "code",
   "execution_count": null,
   "id": "e760169f-0fd1-46f6-b646-0be9ce8005ad",
   "metadata": {},
   "outputs": [],
   "source": []
  }
 ],
 "metadata": {
  "kernelspec": {
   "display_name": "Julia 1.9.3",
   "language": "julia",
   "name": "julia-1.9"
  },
  "language_info": {
   "file_extension": ".jl",
   "mimetype": "application/julia",
   "name": "julia",
   "version": "1.9.3"
  }
 },
 "nbformat": 4,
 "nbformat_minor": 5
}
