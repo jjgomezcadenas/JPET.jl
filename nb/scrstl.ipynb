{
 "cells": [
  {
   "cell_type": "code",
   "execution_count": 1,
   "id": "294d474f-38dc-4efd-af88-f717805d756b",
   "metadata": {},
   "outputs": [],
   "source": [
    "using Geant4\n",
    "using Geant4.SystemOfUnits\n",
    "using Geant4.SystemOfUnits: cm3\n",
    "#using GLMakie, Rotations, IGLWrap_jll  # to force loding G4Vis extension\n",
    "using CairoMakie\n",
    "using GeometryBasics, Rotations, IGLWrap_jll"
   ]
  },
  {
   "cell_type": "markdown",
   "id": "be4cfde5-a650-4723-b674-68773b85de25",
   "metadata": {},
   "source": [
    "## Functions"
   ]
  },
  {
   "cell_type": "code",
   "execution_count": 2,
   "id": "187ea16d-8326-472d-ba16-e7b0a8d06ac6",
   "metadata": {},
   "outputs": [
    {
     "data": {
      "text/plain": [
       "findrdir (generic function with 1 method)"
      ]
     },
     "execution_count": 2,
     "metadata": {},
     "output_type": "execute_result"
    }
   ],
   "source": [
    "function findrdir()\n",
    "\tnbdir = split(@__DIR__,\"/\")\n",
    "\treduce(string, [string(x,\"/\") for x in nbdir[1:end-1]])\n",
    "end"
   ]
  },
  {
   "cell_type": "code",
   "execution_count": 3,
   "id": "a97e3bb3-4dd8-4205-8e7a-26087305715d",
   "metadata": {},
   "outputs": [
    {
     "data": {
      "text/plain": [
       "nexttrigger (generic function with 1 method)"
      ]
     },
     "execution_count": 3,
     "metadata": {},
     "output_type": "execute_result"
    }
   ],
   "source": [
    "#---Draw functions---------------------------------------------------------------------------------\n",
    "function drawdetector!(s, app)\n",
    "    world = GetWorldVolume()\n",
    "    #fig = Figure(resolution=(1024,1024))\n",
    "    #s = LScene(fig[1,1])\n",
    "    Geant4.draw!(s, world, wireframe=true)\n",
    "    \n",
    "    #display(fig)\n",
    "    return s\n",
    "end\n",
    "\n",
    "function drawevent!(s, app, verbose=2)\n",
    "    data = app.simdata[1]\n",
    "    if verbose > 0\n",
    "        println(\"Run info: Particle =\", data.fParticle, \n",
    "                \" Ekin = \", data.fEkin,\n",
    "                \" Edep = \", data.fEdep)\n",
    "    end\n",
    "    for t in data.tracks\n",
    "        if t.particle == \"gamma\"\n",
    "            if verbose > 1\n",
    "                println(\" gamma: energy = \", t.energy, \" trkid =\", t.trkid, \" edep =\", t.edep, \n",
    "                        \" nof points = \", length(t.points), \" points: = \", t.points)\n",
    "                scatter!(s, t.points, markersize=7, color=:blue)\n",
    "            end\n",
    "        elseif t.particle == \"e-\"\n",
    "            if verbose > 1\n",
    "                println(\" e-: energy = \", t.energy, \" trkid =\", t.trkid, \" edep =\", t.edep,\n",
    "                    \" nof points = \", length(t.points), \" points: = \", t.points)\n",
    "            end\n",
    "            scatter!(s, t.points, markersize=7, color=:red)\n",
    "        end\n",
    "        \n",
    "    end\n",
    "end\n",
    "\n",
    "function run1(app; nrun=100)\n",
    "    EDEP = zeros(nrun)\n",
    "    nout = 0\n",
    "    data = app.simdata[1]\n",
    "    \n",
    "    for i in 1:nrun\n",
    "        beamOn(app,1)\n",
    "        if data.trigger \n",
    "            nout+=1\n",
    "        else\n",
    "            data = app.simdata[1]\n",
    "            EDEP[i] = data.fEdep\n",
    "        end\n",
    "    end\n",
    "    EDEP\n",
    "end\n",
    "\n",
    "function nexttrigger(app)\n",
    "    data = app.simdata[1]\n",
    "    beamOn(app,1)\n",
    "    n = 1\n",
    "    while data.trigger\n",
    "        beamOn(app,1)\n",
    "        n += 1\n",
    "    end\n",
    "    println(\"Got a trigger after $n generated particles\")\n",
    "end"
   ]
  },
  {
   "cell_type": "code",
   "execution_count": 4,
   "id": "dda44aa7-1c3a-49d3-a208-06dedcf39548",
   "metadata": {},
   "outputs": [
    {
     "data": {
      "text/plain": [
       "stepaction!"
      ]
     },
     "execution_count": 4,
     "metadata": {},
     "output_type": "execute_result"
    }
   ],
   "source": [
    "srcdir = string(findrdir(), \"src\")\n",
    "include(joinpath(srcdir, \"crstDet.jl\"))\n",
    "include(joinpath(srcdir, \"crstSimData.jl\"))\n",
    "include(joinpath(srcdir, \"crstUserActions.jl\"))"
   ]
  },
  {
   "cell_type": "markdown",
   "id": "cebced9f-baf7-4afe-a7e2-bba83235621c",
   "metadata": {},
   "source": [
    "## Application"
   ]
  },
  {
   "cell_type": "markdown",
   "id": "e6001bfe-a30e-4c75-8081-d1d4bee58acf",
   "metadata": {},
   "source": [
    "### Define LYSO, BGO and CSI"
   ]
  },
  {
   "cell_type": "code",
   "execution_count": 5,
   "id": "b35841e1-8539-41a9-bae0-5109fe18d2c9",
   "metadata": {},
   "outputs": [
    {
     "data": {
      "text/plain": [
       "CrstDetector(true, 3.5, 10.0, \"LYSO\", CxxPtr{G4Material}(Ptr{G4Material} @0x000000012ce9e070))"
      ]
     },
     "execution_count": 5,
     "metadata": {},
     "output_type": "execute_result"
    }
   ],
   "source": [
    "crlyso = CrstDetector(checkOverlaps=true, crstXY=3.5mm, crstZ=10.0mm, crstName=\"LYSO\")"
   ]
  },
  {
   "cell_type": "code",
   "execution_count": 6,
   "id": "d179863b-e5a0-4c68-bf32-71d9c7bb5974",
   "metadata": {},
   "outputs": [
    {
     "data": {
      "text/plain": [
       "CrstDetector(true, 3.5, 10.0, \"BGO\", CxxPtr{G4Material}(Ptr{G4Material} @0x0000000281204080))"
      ]
     },
     "execution_count": 6,
     "metadata": {},
     "output_type": "execute_result"
    }
   ],
   "source": [
    "crlbgo = CrstDetector(checkOverlaps=true, crstXY=3.5mm, crstZ=10.0mm, crstName=\"BGO\")"
   ]
  },
  {
   "cell_type": "code",
   "execution_count": 7,
   "id": "8bdcebff-6681-4953-a729-7012f45bc3d8",
   "metadata": {},
   "outputs": [
    {
     "data": {
      "text/plain": [
       "CrstDetector(true, 3.5, 10.0, \"CSI\", CxxPtr{G4Material}(Ptr{G4Material} @0x0000000281304230))"
      ]
     },
     "execution_count": 7,
     "metadata": {},
     "output_type": "execute_result"
    }
   ],
   "source": [
    "crlcsi = CrstDetector(checkOverlaps=true, crstXY=3.5mm, crstZ=10.0mm, crstName=\"CSI\")"
   ]
  },
  {
   "cell_type": "code",
   "execution_count": 33,
   "id": "efe69170-c9ad-495d-8aa9-b5b6586388d0",
   "metadata": {},
   "outputs": [
    {
     "data": {
      "text/plain": [
       "CrstDetector(true, 3.5, 20.0, \"CSI20\", CxxPtr{G4Material}(Ptr{G4Material} @0x0000000281304230))"
      ]
     },
     "execution_count": 33,
     "metadata": {},
     "output_type": "execute_result"
    }
   ],
   "source": [
    "crlcsi20 = CrstDetector(checkOverlaps=true, crstXY=3.5mm, crstZ=20.0mm, crstName=\"CSI20\")"
   ]
  },
  {
   "cell_type": "markdown",
   "id": "4d67bddf-381b-423f-baa8-8f173012467e",
   "metadata": {},
   "source": [
    "### Define Particle Gun"
   ]
  },
  {
   "cell_type": "code",
   "execution_count": 9,
   "id": "1ba4e225-93d3-4620-8946-b70d5b73b1b3",
   "metadata": {},
   "outputs": [
    {
     "data": {
      "text/plain": [
       "G4JLGunGenerator(\"ParticleGun\", Geant4.G4JLParticleGunData(nothing, \"gamma\", G4ThreeVector(0.0,0.0,1.0), G4ThreeVector(0.0,0.0,-5.0), 0.511), Geant4.var\"#init#23\"(), Geant4.var\"#gen#24\"(), G4JLGeneratorAction[])"
      ]
     },
     "execution_count": 9,
     "metadata": {},
     "output_type": "execute_result"
    }
   ],
   "source": [
    "particlegun = G4JLGunGenerator(particle = \"gamma\", \n",
    "                               energy = 511keV, \n",
    "                               direction = G4ThreeVector(0,0,1), \n",
    "                               position = G4ThreeVector(0,0,-crlyso.crstZ/2))"
   ]
  },
  {
   "cell_type": "markdown",
   "id": "2228509f-ad27-4d72-8933-e73f5a13b0c4",
   "metadata": {},
   "source": [
    "### Define the application (initially with LYSO as detector)"
   ]
  },
  {
   "cell_type": "code",
   "execution_count": 11,
   "id": "479dcc1b-5857-40f6-8b03-dd816c0e1285",
   "metadata": {},
   "outputs": [
    {
     "name": "stdout",
     "output_type": "stream",
     "text": [
      "\n",
      "**************************************************************\n",
      " Geant4 version Name: geant4-11-01-patch-01 [MT]   (10-February-2023)\n",
      "                       Copyright : Geant4 Collaboration\n",
      "                      References : NIM A 506 (2003), 250-303\n",
      "                                 : IEEE-TNS 53 (2006), 270-278\n",
      "                                 : NIM A 835 (2016), 186-225\n",
      "                             WWW : http://geant4.org/\n",
      "**************************************************************\n",
      "\n"
     ]
    }
   ],
   "source": [
    "app = G4JLApplication(; detector = crlyso,                             # detector with parameters\n",
    "                        simdata = CrstSimData(),                     # simulation data structure\n",
    "                        generator = particlegun,                      # primary particle generator\n",
    "                        nthreads = 0,                                 # # of threads (0 = no MT)\n",
    "                        physics_type = QBBC,                          # what physics list to instantiate\n",
    "                        stepaction_method = stepaction!,               # step action method\n",
    "                        begineventaction_method = beginevent!,         # begin-event action (initialize per-event data)\n",
    "                        #endeventaction_method = endevent,             # end-event action (extract data post-event)\n",
    "                        pretrackaction_method = pretrackaction!,       # pre-tracking action\n",
    "                        posttrackaction_method = posttrackaction!,     # post-tracking action\n",
    "                        beginrunaction_method = beginrun!              # begin run action\n",
    "                      );"
   ]
  },
  {
   "cell_type": "code",
   "execution_count": 12,
   "id": "edfc95d2-262c-4c3f-a6bc-58b0718f9e1a",
   "metadata": {},
   "outputs": [],
   "source": [
    "configure(app)"
   ]
  },
  {
   "cell_type": "code",
   "execution_count": 13,
   "id": "71253081-c139-41a0-b783-bd6115ea649b",
   "metadata": {},
   "outputs": [
    {
     "name": "stdout",
     "output_type": "stream",
     "text": [
      "Checking overlaps for volume CRYSTAL:0 (G4Box) ... OK! \n"
     ]
    }
   ],
   "source": [
    "initialize(app)"
   ]
  },
  {
   "cell_type": "markdown",
   "id": "ba900c57-5c08-41d8-851b-233e5e7682c9",
   "metadata": {},
   "source": [
    "#### Draw an event"
   ]
  },
  {
   "cell_type": "code",
   "execution_count": 14,
   "id": "62c1a996-c81d-45bd-9bd0-5de460e19427",
   "metadata": {},
   "outputs": [
    {
     "name": "stdout",
     "output_type": "stream",
     "text": [
      "Got a trigger after 3 generated particles\n"
     ]
    }
   ],
   "source": [
    "nexttrigger(app)"
   ]
  },
  {
   "cell_type": "code",
   "execution_count": 15,
   "id": "7e671bb9-b240-44dd-88f0-934fa5c72ea7",
   "metadata": {},
   "outputs": [
    {
     "name": "stdout",
     "output_type": "stream",
     "text": [
      "Run info: Particle =gamma Ekin = 0.511 Edep = 0.511\n",
      " gamma: energy = 0.511 trkid =1 edep =[0.0, 0.0, 0.06332] nof points = 4 points: = Point3{Float64}[[0.0, 0.0, -5.0], [0.0, 0.0, -4.114552706928433], [0.09104438672190633, 0.04433689580944583, -3.9436425669309503], [-0.37075841939208576, -0.3162253451339098, -4.4249462149289425]]\n",
      " e-: energy = 0.10307302141325912 trkid =4 edep =[0.10307302141325912] nof points = 2 points: = Point3{Float64}[[-0.37075841939208576, -0.3162253451339098, -4.4249462149289425], [-0.3697150272555448, -0.3196814308395525, -4.4235626276598445]]\n",
      " e-: energy = 0.28197920338534943 trkid =3 edep =[0.28197920338534943] nof points = 2 points: = Point3{Float64}[[0.09104438672190633, 0.04433689580944583, -3.9436425669309503], [0.10045780742467819, 0.04983448490397095, -3.9285676195185437]]\n",
      " e-: energy = 0.06262777520139146 trkid =2 edep =[0.06262777520139146] nof points = 2 points: = Point3{Float64}[[0.0, 0.0, -4.114552706928433], [-0.0013840792799380856, -0.0006740204534966942, -4.113709037518534]]\n"
     ]
    },
    {
     "data": {
      "image/png": "[encoded data removed]"
     },
     "metadata": {},
     "output_type": "display_data"
    },
    {
     "data": {
      "text/plain": [
       "CairoMakie.Screen{IMAGE}\n"
      ]
     },
     "execution_count": 15,
     "metadata": {},
     "output_type": "execute_result"
    }
   ],
   "source": [
    "fig = Figure(resolution=(500,500))\n",
    "s = LScene(fig[1,1])\n",
    "drawdetector!(s, app)\n",
    "drawevent!(s, app)\n",
    "display(fig)"
   ]
  },
  {
   "cell_type": "markdown",
   "id": "33e9558c-b0c5-4794-8cb8-37b2a4f0f5d2",
   "metadata": {},
   "source": [
    "#### LYSO edep"
   ]
  },
  {
   "cell_type": "code",
   "execution_count": 17,
   "id": "c79a411f-a12f-47d4-a4e0-c72538036e76",
   "metadata": {},
   "outputs": [],
   "source": [
    "edep = run1(app; nrun=50000);"
   ]
  },
  {
   "cell_type": "code",
   "execution_count": 18,
   "id": "e862b840-3990-449d-a56e-b5bcd62ca23e",
   "metadata": {},
   "outputs": [
    {
     "data": {
      "image/png": "[encoded data removed]"
     },
     "execution_count": 18,
     "metadata": {},
     "output_type": "execute_result"
    }
   ],
   "source": [
    "f = Figure(resolution=(500,500))\n",
    "hist(f[1,1],edep, bins = 10, color = :red, strokewidth = 1, strokecolor = :black)\n",
    "hist(f[1,2],filter(x->x>0 && x < 0.510, edep), bins = 20, color = :red, strokewidth = 1, strokecolor = :black)\n",
    "f"
   ]
  },
  {
   "cell_type": "code",
   "execution_count": 19,
   "id": "41246223-5c99-4aee-ad98-9a62cd86fb9a",
   "metadata": {},
   "outputs": [
    {
     "name": "stdout",
     "output_type": "stream",
     "text": [
      "Fraction of events that interact in crystal = 0.55114\n"
     ]
    }
   ],
   "source": [
    "println(\"Fraction of events that interact in crystal = \", length(filter(x->x > 0, edep)) /length(edep))"
   ]
  },
  {
   "cell_type": "code",
   "execution_count": 20,
   "id": "ef2be750-7f69-42bf-9703-9ada4810909b",
   "metadata": {},
   "outputs": [
    {
     "name": "stdout",
     "output_type": "stream",
     "text": [
      "Fraction of events in photopeak = 0.28336\n"
     ]
    }
   ],
   "source": [
    "println(\"Fraction of events in photopeak = \", length(filter(x->x > 0.509, edep)) /length(edep))"
   ]
  },
  {
   "cell_type": "markdown",
   "id": "55fd73b0-1593-4031-ae1a-a2f99f07c614",
   "metadata": {},
   "source": [
    "### BGO case"
   ]
  },
  {
   "cell_type": "code",
   "execution_count": 21,
   "id": "e760169f-0fd1-46f6-b646-0be9ce8005ad",
   "metadata": {},
   "outputs": [
    {
     "name": "stdout",
     "output_type": "stream",
     "text": [
      "Checking overlaps for volume CRYSTAL:0 (G4Box) ... OK! \n"
     ]
    }
   ],
   "source": [
    "reinitialize(app, crlbgo)"
   ]
  },
  {
   "cell_type": "code",
   "execution_count": 22,
   "id": "04cf71c2-c056-4d95-abb3-03192ebab66d",
   "metadata": {},
   "outputs": [
    {
     "name": "stdout",
     "output_type": "stream",
     "text": [
      "Got a trigger after 2 generated particles\n"
     ]
    }
   ],
   "source": [
    "nexttrigger(app)"
   ]
  },
  {
   "cell_type": "code",
   "execution_count": 23,
   "id": "43857261-a698-49ed-b007-76bb271a9eb8",
   "metadata": {},
   "outputs": [
    {
     "name": "stdout",
     "output_type": "stream",
     "text": [
      "Run info: Particle =gamma Ekin = 0.511 Edep = 0.511\n",
      " gamma: energy = 0.511 trkid =1 edep =[0.0, 0.090534] nof points = 3 points: = Point3{Float64}[[0.0, 0.0, -5.0], [0.0, 0.0, -0.9542137857593662], [-0.023103664956601544, -0.8300430618710622, -1.0178785829725105]]\n",
      " e-: energy = 0.15555922979838657 trkid =3 edep =[0.15555922979838657] nof points = 2 points: = Point3{Float64}[[-0.023103664956601544, -0.8300430618710622, -1.0178785829725105], [-0.02245508092043765, -0.8369266294686865, -1.016139071732241]]\n",
      " e-: energy = 0.26490677020161346 trkid =2 edep =[0.26490677020161346] nof points = 2 points: = Point3{Float64}[[0.0, 0.0, -0.9542137857593662], [0.0001868695360154583, 0.0067136431443261275, -0.9397119796783614]]\n"
     ]
    },
    {
     "data": {
      "image/png": "[encoded data removed]"
     },
     "metadata": {},
     "output_type": "display_data"
    },
    {
     "data": {
      "text/plain": [
       "CairoMakie.Screen{IMAGE}\n"
      ]
     },
     "execution_count": 23,
     "metadata": {},
     "output_type": "execute_result"
    }
   ],
   "source": [
    "fig = Figure(resolution=(500,500))\n",
    "s = LScene(fig[1,1])\n",
    "drawdetector!(s, app)\n",
    "drawevent!(s, app)\n",
    "display(fig)"
   ]
  },
  {
   "cell_type": "code",
   "execution_count": 24,
   "id": "c5bc8f3b-8211-404a-985c-ac4d995520bf",
   "metadata": {},
   "outputs": [],
   "source": [
    "edep = run1(app; nrun=50000);"
   ]
  },
  {
   "cell_type": "code",
   "execution_count": 25,
   "id": "bf8db580-4c58-4c3e-933d-d8b2a79af70b",
   "metadata": {},
   "outputs": [
    {
     "data": {
      "image/png": "[encoded data removed]"
     },
     "execution_count": 25,
     "metadata": {},
     "output_type": "execute_result"
    }
   ],
   "source": [
    "f = Figure(resolution=(500,500))\n",
    "hist(f[1,1],edep, bins = 10, color = :red, strokewidth = 1, strokecolor = :black)\n",
    "hist(f[1,2],filter(x->x>0 && x < 0.510, edep), bins = 20, color = :red, strokewidth = 1, strokecolor = :black)\n",
    "f"
   ]
  },
  {
   "cell_type": "code",
   "execution_count": 26,
   "id": "a4cde79a-0f5a-426f-9793-b9c74152d4c5",
   "metadata": {},
   "outputs": [
    {
     "name": "stdout",
     "output_type": "stream",
     "text": [
      "Fraction of events that interact in crystal = 0.59294\n"
     ]
    }
   ],
   "source": [
    "println(\"Fraction of events that interact in crystal = \", length(filter(x->x > 0, edep)) /length(edep))"
   ]
  },
  {
   "cell_type": "code",
   "execution_count": 27,
   "id": "5fef650d-fed5-4fba-a322-436f89e3f774",
   "metadata": {},
   "outputs": [
    {
     "name": "stdout",
     "output_type": "stream",
     "text": [
      "Fraction of events in photopeak = 0.37408\n"
     ]
    }
   ],
   "source": [
    "println(\"Fraction of events in photopeak = \", length(filter(x->x > 0.509, edep)) /length(edep))"
   ]
  },
  {
   "cell_type": "markdown",
   "id": "381646de-41a7-4a16-9777-79ce686d7581",
   "metadata": {},
   "source": [
    "### CsI"
   ]
  },
  {
   "cell_type": "code",
   "execution_count": 28,
   "id": "ef3aae80-bbcc-4f80-8d9f-13702e45c7ac",
   "metadata": {},
   "outputs": [
    {
     "name": "stdout",
     "output_type": "stream",
     "text": [
      "Checking overlaps for volume CRYSTAL:0 (G4Box) ... OK! \n"
     ]
    }
   ],
   "source": [
    "reinitialize(app, crlcsi)"
   ]
  },
  {
   "cell_type": "code",
   "execution_count": 29,
   "id": "d715b534-1cae-4f9b-a7d1-8e14da152d6a",
   "metadata": {},
   "outputs": [],
   "source": [
    "edep = run1(app; nrun=50000);"
   ]
  },
  {
   "cell_type": "code",
   "execution_count": 30,
   "id": "c24c14f5-18e7-4760-9c10-54b572025ed1",
   "metadata": {},
   "outputs": [
    {
     "data": {
      "image/png": "[encoded data removed]"
     },
     "execution_count": 30,
     "metadata": {},
     "output_type": "execute_result"
    }
   ],
   "source": [
    "f = Figure(resolution=(500,500))\n",
    "hist(f[1,1],edep, bins = 10, color = :red, strokewidth = 1, strokecolor = :black)\n",
    "hist(f[1,2],filter(x->x>0 && x < 0.510, edep), bins = 20, color = :red, strokewidth = 1, strokecolor = :black)\n",
    "f"
   ]
  },
  {
   "cell_type": "code",
   "execution_count": 31,
   "id": "d27801c7-5a33-4e9c-8652-0aad92a53130",
   "metadata": {},
   "outputs": [
    {
     "name": "stdout",
     "output_type": "stream",
     "text": [
      "Fraction of events that interact in crystal = 0.33352\n"
     ]
    }
   ],
   "source": [
    "println(\"Fraction of events that interact in crystal = \", length(filter(x->x > 0, edep)) /length(edep))"
   ]
  },
  {
   "cell_type": "code",
   "execution_count": 32,
   "id": "4c38c2b2-c86e-4538-b3e6-c56dbdebc5a0",
   "metadata": {},
   "outputs": [
    {
     "name": "stdout",
     "output_type": "stream",
     "text": [
      "Fraction of events in photopeak = 0.10268\n"
     ]
    }
   ],
   "source": [
    "println(\"Fraction of events in photopeak = \", length(filter(x->x > 0.509, edep)) /length(edep))"
   ]
  },
  {
   "cell_type": "markdown",
   "id": "70619a83-f047-4341-9ab7-8a3a01e81c67",
   "metadata": {},
   "source": [
    "### CSI with 20 cm X0"
   ]
  },
  {
   "cell_type": "code",
   "execution_count": 34,
   "id": "bf74f83a-c1ae-48ee-9b5e-81cd06867b48",
   "metadata": {},
   "outputs": [
    {
     "name": "stdout",
     "output_type": "stream",
     "text": [
      "Checking overlaps for volume CRYSTAL:0 (G4Box) ... OK! \n"
     ]
    }
   ],
   "source": [
    "reinitialize(app, crlcsi20) "
   ]
  },
  {
   "cell_type": "code",
   "execution_count": 35,
   "id": "494d0c72-1d53-4e83-8e8c-02342bf35c47",
   "metadata": {},
   "outputs": [],
   "source": [
    "edep = run1(app; nrun=50000);"
   ]
  },
  {
   "cell_type": "code",
   "execution_count": 36,
   "id": "dc968ff9-ac0e-4518-a19f-353d98230c5c",
   "metadata": {},
   "outputs": [
    {
     "name": "stdout",
     "output_type": "stream",
     "text": [
      "Fraction of events that interact in crystal = 0.45442\n"
     ]
    }
   ],
   "source": [
    "println(\"Fraction of events that interact in crystal = \", length(filter(x->x > 0, edep)) /length(edep))"
   ]
  },
  {
   "cell_type": "code",
   "execution_count": 37,
   "id": "db98b269-0860-4fda-8fc8-a54dd1596992",
   "metadata": {},
   "outputs": [
    {
     "name": "stdout",
     "output_type": "stream",
     "text": [
      "Fraction of events in photopeak = 0.14506\n"
     ]
    }
   ],
   "source": [
    "println(\"Fraction of events in photopeak = \", length(filter(x->x > 0.509, edep)) /length(edep))"
   ]
  },
  {
   "cell_type": "code",
   "execution_count": 38,
   "id": "38c5ea85-7080-42f0-8839-01cf71310c06",
   "metadata": {},
   "outputs": [
    {
     "name": "stdout",
     "output_type": "stream",
     "text": [
      "1\n",
      "2\n",
      "3\n"
     ]
    }
   ],
   "source": [
    "for i in 1:3\n",
    "    println(i)\n",
    "end"
   ]
  },
  {
   "cell_type": "code",
   "execution_count": null,
   "id": "14dca5e4-abc8-44c9-98e0-525a324a63ca",
   "metadata": {},
   "outputs": [],
   "source": []
  }
 ],
 "metadata": {
  "kernelspec": {
   "display_name": "Julia 1.9.3",
   "language": "julia",
   "name": "julia-1.9"
  },
  "language_info": {
   "file_extension": ".jl",
   "mimetype": "application/julia",
   "name": "julia",
   "version": "1.9.3"
  }
 },
 "nbformat": 4,
 "nbformat_minor": 5
}
